{
 "cells": [
  {
   "cell_type": "markdown",
   "id": "4ee49617-0cd7-4615-be98-4188c1be8818",
   "metadata": {},
   "source": [
    "## Import Dependencies"
   ]
  },
  {
   "cell_type": "code",
   "execution_count": 7,
   "id": "37346c0e-008c-4e2e-926b-4c5644fd5eaf",
   "metadata": {},
   "outputs": [],
   "source": [
    "import redis\n",
    "import pandas as pd"
   ]
  },
  {
   "cell_type": "markdown",
   "id": "4efd953e-cfac-42e7-82cc-85ebd5067eef",
   "metadata": {},
   "source": [
    "## Connect to Redis Client"
   ]
  },
  {
   "cell_type": "code",
   "execution_count": 8,
   "id": "7822f41c-4656-4584-98d4-0eb698abfacc",
   "metadata": {},
   "outputs": [],
   "source": [
    "hostname = \"redis-19929.c267.us-east-1-4.ec2.cloud.redislabs.com\"\n",
    "portNumber = 19929\n",
    "password = \"NPtUZau0Kx1gLuvPcjh8SsnhJ43VSzy8\"\n",
    "\n",
    "r = redis.StrictRedis(host=hostname,\n",
    "                      port=portNumber,\n",
    "                      password=password)"
   ]
  },
  {
   "cell_type": "code",
   "execution_count": 9,
   "id": "9ee07cd1-a7c8-4639-82cb-67970134eb8a",
   "metadata": {},
   "outputs": [
    {
     "data": {
      "text/plain": [
       "True"
      ]
     },
     "execution_count": 9,
     "metadata": {},
     "output_type": "execute_result"
    }
   ],
   "source": [
    "r.ping()"
   ]
  },
  {
   "cell_type": "code",
   "execution_count": 10,
   "id": "21dafdb7-ad20-42d9-890d-707b9abb2996",
   "metadata": {},
   "outputs": [
    {
     "data": {
      "text/plain": [
       "b'Morgan Freeman@Teacher'        b'\\xeb\\x7f\\xf8>\\x86\\x87\\x1e\\xbfja\\xd0\\xbe\\xbe\\...\n",
       "b'Scarlett Johansson@Student'    b'F\\xe9C>\\x8d\\x14\\xfa\\xbe\\x8eY\\xd8\\xbf\\xd3\\x81...\n",
       "b'Angelina Jolie@Student'        b'0f\\xdd>\\xae\\x94\\x89?\\xeb\\xb5\\x03\\xbeN\\xa9\\xe...\n",
       "b'Shahroz@Student'               b'\\xabq\\xd4:C\\xdb\\x1e\\xc0&\\x1ag\\xbf\\x84j\\x18\\x...\n",
       "b'Chris Evans@Student'           b'\\']8?\\x04\\xf5\\xbb\\xbf83G\\xbf\\xcc\\xe4\\xba\\xbf...\n",
       "b'Barack Obama@Teacher'          b'3\\xd6r?\\xa3\\xf3\\x0e\\xbf]1\\xc2=\\xde\\xcb\\xa3\\x...\n",
       "dtype: object"
      ]
     },
     "execution_count": 10,
     "metadata": {},
     "output_type": "execute_result"
    }
   ],
   "source": [
    "name = \"academy:register\"\n",
    "register_series = pd.Series(r.hgetall(name))\n",
    "register_series"
   ]
  },
  {
   "cell_type": "markdown",
   "id": "7f070d58-2a9a-48e5-8153-1a6bd3e66024",
   "metadata": {},
   "source": [
    "## Delete keys and field"
   ]
  },
  {
   "cell_type": "code",
   "execution_count": 12,
   "id": "74272b5a-b339-4e3b-b33d-c5a2f77c0040",
   "metadata": {},
   "outputs": [
    {
     "data": {
      "text/plain": [
       "1"
      ]
     },
     "execution_count": 12,
     "metadata": {},
     "output_type": "execute_result"
    }
   ],
   "source": [
    "key_to_del = \"Shahroz@Student\" \n",
    "r.hdel(name, key_to_del)"
   ]
  },
  {
   "cell_type": "code",
   "execution_count": 13,
   "id": "0368dca3-4d3c-48a2-9713-4d6ab0ea8df8",
   "metadata": {},
   "outputs": [
    {
     "data": {
      "text/plain": [
       "b'Morgan Freeman@Teacher'        b'\\xeb\\x7f\\xf8>\\x86\\x87\\x1e\\xbfja\\xd0\\xbe\\xbe\\...\n",
       "b'Scarlett Johansson@Student'    b'F\\xe9C>\\x8d\\x14\\xfa\\xbe\\x8eY\\xd8\\xbf\\xd3\\x81...\n",
       "b'Angelina Jolie@Student'        b'0f\\xdd>\\xae\\x94\\x89?\\xeb\\xb5\\x03\\xbeN\\xa9\\xe...\n",
       "b'Chris Evans@Student'           b'\\']8?\\x04\\xf5\\xbb\\xbf83G\\xbf\\xcc\\xe4\\xba\\xbf...\n",
       "b'Barack Obama@Teacher'          b'3\\xd6r?\\xa3\\xf3\\x0e\\xbf]1\\xc2=\\xde\\xcb\\xa3\\x...\n",
       "dtype: object"
      ]
     },
     "execution_count": 13,
     "metadata": {},
     "output_type": "execute_result"
    }
   ],
   "source": [
    "register_series = pd.Series(r.hgetall(name))\n",
    "register_series"
   ]
  },
  {
   "cell_type": "code",
   "execution_count": null,
   "id": "8d873094-0b12-4888-b343-50ee51ee6c21",
   "metadata": {},
   "outputs": [],
   "source": []
  }
 ],
 "metadata": {
  "kernelspec": {
   "display_name": "Python 3 (ipykernel)",
   "language": "python",
   "name": "python3"
  },
  "language_info": {
   "codemirror_mode": {
    "name": "ipython",
    "version": 3
   },
   "file_extension": ".py",
   "mimetype": "text/x-python",
   "name": "python",
   "nbconvert_exporter": "python",
   "pygments_lexer": "ipython3",
   "version": "3.11.4"
  }
 },
 "nbformat": 4,
 "nbformat_minor": 5
}
